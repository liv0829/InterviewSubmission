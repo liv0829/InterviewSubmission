{
 "cells": [
  {
   "cell_type": "code",
   "execution_count": 1,
   "metadata": {},
   "outputs": [],
   "source": [
    "import math\n",
    "import random\n",
    "import numpy as np\n",
    "import pandas as pd\n",
    "import matplotlib.pyplot as plt\n",
    "from mpl_toolkits.mplot3d import axes3d"
   ]
  },
  {
   "cell_type": "code",
   "execution_count": 6,
   "metadata": {},
   "outputs": [
    {
     "data": {
      "text/html": [
       "<div>\n",
       "<style scoped>\n",
       "    .dataframe tbody tr th:only-of-type {\n",
       "        vertical-align: middle;\n",
       "    }\n",
       "\n",
       "    .dataframe tbody tr th {\n",
       "        vertical-align: top;\n",
       "    }\n",
       "\n",
       "    .dataframe thead th {\n",
       "        text-align: right;\n",
       "    }\n",
       "</style>\n",
       "<table border=\"1\" class=\"dataframe\">\n",
       "  <thead>\n",
       "    <tr style=\"text-align: right;\">\n",
       "      <th></th>\n",
       "      <th>ts</th>\n",
       "      <th>user_id</th>\n",
       "      <th>country_id</th>\n",
       "      <th>site_id</th>\n",
       "    </tr>\n",
       "  </thead>\n",
       "  <tbody>\n",
       "    <tr>\n",
       "      <th>0</th>\n",
       "      <td>2019-02-01 00:01:24</td>\n",
       "      <td>LC36FC</td>\n",
       "      <td>TL6</td>\n",
       "      <td>N0OTG</td>\n",
       "    </tr>\n",
       "    <tr>\n",
       "      <th>1</th>\n",
       "      <td>2019-02-01 00:10:19</td>\n",
       "      <td>LC39B6</td>\n",
       "      <td>TL6</td>\n",
       "      <td>N0OTG</td>\n",
       "    </tr>\n",
       "    <tr>\n",
       "      <th>2</th>\n",
       "      <td>2019-02-01 00:21:50</td>\n",
       "      <td>LC3500</td>\n",
       "      <td>TL6</td>\n",
       "      <td>N0OTG</td>\n",
       "    </tr>\n",
       "    <tr>\n",
       "      <th>3</th>\n",
       "      <td>2019-02-01 00:22:50</td>\n",
       "      <td>LC374F</td>\n",
       "      <td>TL6</td>\n",
       "      <td>N0OTG</td>\n",
       "    </tr>\n",
       "    <tr>\n",
       "      <th>4</th>\n",
       "      <td>2019-02-01 00:23:44</td>\n",
       "      <td>LCC1C3</td>\n",
       "      <td>TL6</td>\n",
       "      <td>QGO3G</td>\n",
       "    </tr>\n",
       "    <tr>\n",
       "      <th>...</th>\n",
       "      <td>...</td>\n",
       "      <td>...</td>\n",
       "      <td>...</td>\n",
       "      <td>...</td>\n",
       "    </tr>\n",
       "    <tr>\n",
       "      <th>3548</th>\n",
       "      <td>2019-02-07 23:56:57</td>\n",
       "      <td>LC3F13</td>\n",
       "      <td>TL6</td>\n",
       "      <td>QGO3G</td>\n",
       "    </tr>\n",
       "    <tr>\n",
       "      <th>3549</th>\n",
       "      <td>2019-02-07 23:58:36</td>\n",
       "      <td>LC3842</td>\n",
       "      <td>HVQ</td>\n",
       "      <td>3POLC</td>\n",
       "    </tr>\n",
       "    <tr>\n",
       "      <th>3550</th>\n",
       "      <td>2019-02-07 23:58:56</td>\n",
       "      <td>LC35EB</td>\n",
       "      <td>TL6</td>\n",
       "      <td>QGO3G</td>\n",
       "    </tr>\n",
       "    <tr>\n",
       "      <th>3551</th>\n",
       "      <td>2019-02-07 23:59:19</td>\n",
       "      <td>LC3842</td>\n",
       "      <td>HVQ</td>\n",
       "      <td>3POLC</td>\n",
       "    </tr>\n",
       "    <tr>\n",
       "      <th>3552</th>\n",
       "      <td>2019-02-07 23:59:37</td>\n",
       "      <td>LC3842</td>\n",
       "      <td>HVQ</td>\n",
       "      <td>3POLC</td>\n",
       "    </tr>\n",
       "  </tbody>\n",
       "</table>\n",
       "<p>3553 rows × 4 columns</p>\n",
       "</div>"
      ],
      "text/plain": [
       "                       ts user_id country_id site_id\n",
       "0     2019-02-01 00:01:24  LC36FC        TL6   N0OTG\n",
       "1     2019-02-01 00:10:19  LC39B6        TL6   N0OTG\n",
       "2     2019-02-01 00:21:50  LC3500        TL6   N0OTG\n",
       "3     2019-02-01 00:22:50  LC374F        TL6   N0OTG\n",
       "4     2019-02-01 00:23:44  LCC1C3        TL6   QGO3G\n",
       "...                   ...     ...        ...     ...\n",
       "3548  2019-02-07 23:56:57  LC3F13        TL6   QGO3G\n",
       "3549  2019-02-07 23:58:36  LC3842        HVQ   3POLC\n",
       "3550  2019-02-07 23:58:56  LC35EB        TL6   QGO3G\n",
       "3551  2019-02-07 23:59:19  LC3842        HVQ   3POLC\n",
       "3552  2019-02-07 23:59:37  LC3842        HVQ   3POLC\n",
       "\n",
       "[3553 rows x 4 columns]"
      ]
     },
     "execution_count": 6,
     "metadata": {},
     "output_type": "execute_result"
    }
   ],
   "source": [
    "# load the data and pre-process\n",
    "df = pd.read_csv(\"Q1_data.csv\")\n",
    "df"
   ]
  },
  {
   "cell_type": "code",
   "execution_count": 19,
   "metadata": {},
   "outputs": [
    {
     "name": "stdout",
     "output_type": "stream",
     "text": [
      "N0OTG\n",
      "90\n",
      "5NPAU\n",
      "544\n",
      "3POLC\n",
      "2\n"
     ]
    },
    {
     "name": "stderr",
     "output_type": "stream",
     "text": [
      "/home/sumin/.local/lib/python3.6/site-packages/ipykernel_launcher.py:3: UserWarning: Boolean Series key will be reindexed to match DataFrame index.\n",
      "  This is separate from the ipykernel package so we can avoid doing imports until\n"
     ]
    }
   ],
   "source": [
    "# Question 1\n",
    "df_q1 = df.sort_values('ts')\n",
    "df_q1 = df[df_q1['country_id'] == 'BDV']\n",
    "unique_sites = pd.unique(df_q1['site_id'])\n",
    "for site in unique_sites:\n",
    "    print(site)\n",
    "    temp = df_q1[df_q1['site_id'] == str(site)]\n",
    "    print(len(pd.unique(temp['user_id'])))"
   ]
  },
  {
   "cell_type": "code",
   "execution_count": 31,
   "metadata": {},
   "outputs": [
    {
     "name": "stdout",
     "output_type": "stream",
     "text": [
      "LC3C7E\n",
      "3POLC\n",
      "15\n",
      "LC3A59\n",
      "N0OTG\n",
      "26\n",
      "LC06C3\n",
      "N0OTG\n",
      "25\n",
      "LC3C9D\n",
      "N0OTG\n",
      "17\n"
     ]
    }
   ],
   "source": [
    "# Question 2\n",
    "df_q2 = df[df['ts'] > '2019-02-03 00:00:00']\n",
    "df_q2 = df_q2[df_q2['ts'] < '2019-02-04 23:59:59']\n",
    "users = pd.unique(df_q2['user_id'])\n",
    "sites = pd.unique(df_q2['site_id'])\n",
    "for user in users:\n",
    "    temp = df_q2[df_q2['user_id'] == str(user)]\n",
    "    for site in sites:\n",
    "        times = len(temp[temp['site_id'] == str(site)])\n",
    "        if times > 10:\n",
    "            print(user)\n",
    "            print(site)\n",
    "            print(times)"
   ]
  },
  {
   "cell_type": "code",
   "execution_count": 54,
   "metadata": {},
   "outputs": [
    {
     "name": "stdout",
     "output_type": "stream",
     "text": [
      "{'N0OTG': 561, 'QGO3G': 289, '5NPAU': 992, 'GVOFK': 42, '3POLC': 28, 'RT9Z6': 2, 'JSUUP': 1, 'EUZ/Q': 1}\n"
     ]
    }
   ],
   "source": [
    "# Question 3\n",
    "df_q3 = df.sort_values('ts')\n",
    "last_sites = []\n",
    "users = pd.unique(df_q3['user_id'])\n",
    "for user in users:\n",
    "    temp = df_q3[df_q3['user_id'] == user]\n",
    "    last_sites += [temp['site_id'].iloc[-1]]\n",
    "last_site_dic = {}\n",
    "for site in last_sites:\n",
    "    if site in last_site_dic:\n",
    "        last_site_dic[site] += 1\n",
    "    else:\n",
    "        last_site_dic[site] = 1\n",
    "print(last_site_dic)"
   ]
  },
  {
   "cell_type": "code",
   "execution_count": 56,
   "metadata": {},
   "outputs": [
    {
     "name": "stdout",
     "output_type": "stream",
     "text": [
      "1670\n"
     ]
    }
   ],
   "source": [
    "# Question 4\n",
    "df_q4 = df.sort_values('ts')\n",
    "first_sites = []\n",
    "last_sites = []\n",
    "users = pd.unique(df_q4['user_id'])\n",
    "for user in users:\n",
    "    temp = df_q4[df_q4['user_id'] == user]\n",
    "    first_sites += [temp['site_id'].iloc[0]]\n",
    "    last_sites += [temp['site_id'].iloc[-1]]\n",
    "count = 0\n",
    "for i in range(len(first_sites)):\n",
    "    if first_sites[i] == last_sites[i]:\n",
    "        count += 1\n",
    "print(count)"
   ]
  },
  {
   "cell_type": "code",
   "execution_count": null,
   "metadata": {},
   "outputs": [],
   "source": []
  }
 ],
 "metadata": {
  "kernelspec": {
   "display_name": "Python 3",
   "language": "python",
   "name": "python3"
  },
  "language_info": {
   "codemirror_mode": {
    "name": "ipython",
    "version": 3
   },
   "file_extension": ".py",
   "mimetype": "text/x-python",
   "name": "python",
   "nbconvert_exporter": "python",
   "pygments_lexer": "ipython3",
   "version": "3.6.9"
  }
 },
 "nbformat": 4,
 "nbformat_minor": 4
}
